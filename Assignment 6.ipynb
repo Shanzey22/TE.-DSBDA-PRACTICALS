{
 "cells": [
  {
   "cell_type": "markdown",
   "id": "07b5fb09",
   "metadata": {},
   "source": [
    "## Practical No- 6 \n",
    "#### Data Analytics III\n",
    "1. Implement Simple Naïve Bayes classification algorithm using Python/R on iris.csv dataset. \n",
    "2. Compute Confusion matrix to find TP, FP, TN, FN, Accuracy, Error rate, Precision, Recall on the given dataset.\n"
   ]
  },
  {
   "cell_type": "code",
   "execution_count": 13,
   "id": "c3f7d30d",
   "metadata": {
    "_cell_guid": "b1076dfc-b9ad-4769-8c92-a6c4dae69d19",
    "_uuid": "8f2839f25d086af736a60e9eeb907d3b93b6e0e5",
    "execution": {
     "iopub.execute_input": "2022-03-28T06:30:15.938539Z",
     "iopub.status.busy": "2022-03-28T06:30:15.936733Z",
     "iopub.status.idle": "2022-03-28T06:30:17.132091Z",
     "shell.execute_reply": "2022-03-28T06:30:17.132577Z",
     "shell.execute_reply.started": "2022-03-28T05:42:26.685951Z"
    },
    "papermill": {
     "duration": 1.224345,
     "end_time": "2022-03-28T06:30:17.132920",
     "exception": false,
     "start_time": "2022-03-28T06:30:15.908575",
     "status": "completed"
    },
    "tags": []
   },
   "outputs": [],
   "source": [
    "import numpy as np\n",
    "import pandas as pd\n",
    "from sklearn.model_selection import train_test_split\n",
    "from sklearn.naive_bayes import GaussianNB\n",
    "import matplotlib.pyplot as plt\n",
    "import seaborn as sns\n",
    "from sklearn.metrics import confusion_matrix,ConfusionMatrixDisplay,classification_report,accuracy_score, precision_score, recall_score, f1_score\n",
    "from sklearn.preprocessing import LabelEncoder\n",
    "import warnings\n",
    "warnings.filterwarnings('ignore')"
   ]
  },
  {
   "cell_type": "markdown",
   "id": "17e8906c",
   "metadata": {
    "papermill": {
     "duration": 0.02312,
     "end_time": "2022-03-28T06:30:17.179907",
     "exception": false,
     "start_time": "2022-03-28T06:30:17.156787",
     "status": "completed"
    },
    "tags": []
   },
   "source": [
    "* Loading the dataset"
   ]
  },
  {
   "cell_type": "code",
   "execution_count": 4,
   "id": "176bdb3b",
   "metadata": {
    "execution": {
     "iopub.execute_input": "2022-03-28T06:30:17.230489Z",
     "iopub.status.busy": "2022-03-28T06:30:17.229515Z",
     "iopub.status.idle": "2022-03-28T06:30:17.260622Z",
     "shell.execute_reply": "2022-03-28T06:30:17.261171Z",
     "shell.execute_reply.started": "2022-03-28T05:42:28.173357Z"
    },
    "papermill": {
     "duration": 0.058053,
     "end_time": "2022-03-28T06:30:17.261336",
     "exception": false,
     "start_time": "2022-03-28T06:30:17.203283",
     "status": "completed"
    },
    "tags": []
   },
   "outputs": [
    {
     "data": {
      "text/html": [
       "<div>\n",
       "<style scoped>\n",
       "    .dataframe tbody tr th:only-of-type {\n",
       "        vertical-align: middle;\n",
       "    }\n",
       "\n",
       "    .dataframe tbody tr th {\n",
       "        vertical-align: top;\n",
       "    }\n",
       "\n",
       "    .dataframe thead th {\n",
       "        text-align: right;\n",
       "    }\n",
       "</style>\n",
       "<table border=\"1\" class=\"dataframe\">\n",
       "  <thead>\n",
       "    <tr style=\"text-align: right;\">\n",
       "      <th></th>\n",
       "      <th>Id</th>\n",
       "      <th>SepalLengthCm</th>\n",
       "      <th>SepalWidthCm</th>\n",
       "      <th>PetalLengthCm</th>\n",
       "      <th>PetalWidthCm</th>\n",
       "      <th>Species</th>\n",
       "    </tr>\n",
       "  </thead>\n",
       "  <tbody>\n",
       "    <tr>\n",
       "      <th>0</th>\n",
       "      <td>1</td>\n",
       "      <td>5.1</td>\n",
       "      <td>3.5</td>\n",
       "      <td>1.4</td>\n",
       "      <td>0.2</td>\n",
       "      <td>Iris-setosa</td>\n",
       "    </tr>\n",
       "    <tr>\n",
       "      <th>1</th>\n",
       "      <td>2</td>\n",
       "      <td>4.9</td>\n",
       "      <td>3.0</td>\n",
       "      <td>1.4</td>\n",
       "      <td>0.2</td>\n",
       "      <td>Iris-setosa</td>\n",
       "    </tr>\n",
       "    <tr>\n",
       "      <th>2</th>\n",
       "      <td>3</td>\n",
       "      <td>4.7</td>\n",
       "      <td>3.2</td>\n",
       "      <td>1.3</td>\n",
       "      <td>0.2</td>\n",
       "      <td>Iris-setosa</td>\n",
       "    </tr>\n",
       "    <tr>\n",
       "      <th>3</th>\n",
       "      <td>4</td>\n",
       "      <td>4.6</td>\n",
       "      <td>3.1</td>\n",
       "      <td>1.5</td>\n",
       "      <td>0.2</td>\n",
       "      <td>Iris-setosa</td>\n",
       "    </tr>\n",
       "    <tr>\n",
       "      <th>4</th>\n",
       "      <td>5</td>\n",
       "      <td>5.0</td>\n",
       "      <td>3.6</td>\n",
       "      <td>1.4</td>\n",
       "      <td>0.2</td>\n",
       "      <td>Iris-setosa</td>\n",
       "    </tr>\n",
       "  </tbody>\n",
       "</table>\n",
       "</div>"
      ],
      "text/plain": [
       "   Id  SepalLengthCm  SepalWidthCm  PetalLengthCm  PetalWidthCm      Species\n",
       "0   1            5.1           3.5            1.4           0.2  Iris-setosa\n",
       "1   2            4.9           3.0            1.4           0.2  Iris-setosa\n",
       "2   3            4.7           3.2            1.3           0.2  Iris-setosa\n",
       "3   4            4.6           3.1            1.5           0.2  Iris-setosa\n",
       "4   5            5.0           3.6            1.4           0.2  Iris-setosa"
      ]
     },
     "execution_count": 4,
     "metadata": {},
     "output_type": "execute_result"
    }
   ],
   "source": [
    "data =  pd.read_csv(\"F:/SWATI ENGG/2021-2022/DS and Big Data/PRACTICALS/Datasets/1. Iris.csv\")\n",
    "data.head(5)"
   ]
  },
  {
   "cell_type": "markdown",
   "id": "ade4e19d",
   "metadata": {
    "papermill": {
     "duration": 0.023899,
     "end_time": "2022-03-28T06:30:17.309838",
     "exception": false,
     "start_time": "2022-03-28T06:30:17.285939",
     "status": "completed"
    },
    "tags": []
   },
   "source": [
    "* Checking Basic statistics of the dataset"
   ]
  },
  {
   "cell_type": "code",
   "execution_count": 21,
   "id": "890e89e9",
   "metadata": {
    "execution": {
     "iopub.execute_input": "2022-03-28T06:30:17.362102Z",
     "iopub.status.busy": "2022-03-28T06:30:17.361078Z",
     "iopub.status.idle": "2022-03-28T06:30:17.398105Z",
     "shell.execute_reply": "2022-03-28T06:30:17.398606Z",
     "shell.execute_reply.started": "2022-03-28T05:58:28.362031Z"
    },
    "papermill": {
     "duration": 0.064754,
     "end_time": "2022-03-28T06:30:17.398781",
     "exception": false,
     "start_time": "2022-03-28T06:30:17.334027",
     "status": "completed"
    },
    "tags": []
   },
   "outputs": [
    {
     "data": {
      "text/html": [
       "<div>\n",
       "<style scoped>\n",
       "    .dataframe tbody tr th:only-of-type {\n",
       "        vertical-align: middle;\n",
       "    }\n",
       "\n",
       "    .dataframe tbody tr th {\n",
       "        vertical-align: top;\n",
       "    }\n",
       "\n",
       "    .dataframe thead th {\n",
       "        text-align: right;\n",
       "    }\n",
       "</style>\n",
       "<table border=\"1\" class=\"dataframe\">\n",
       "  <thead>\n",
       "    <tr style=\"text-align: right;\">\n",
       "      <th></th>\n",
       "      <th>Id</th>\n",
       "      <th>SepalLengthCm</th>\n",
       "      <th>SepalWidthCm</th>\n",
       "      <th>PetalLengthCm</th>\n",
       "      <th>PetalWidthCm</th>\n",
       "      <th>Species</th>\n",
       "    </tr>\n",
       "  </thead>\n",
       "  <tbody>\n",
       "    <tr>\n",
       "      <th>count</th>\n",
       "      <td>150.000000</td>\n",
       "      <td>150.000000</td>\n",
       "      <td>150.000000</td>\n",
       "      <td>150.000000</td>\n",
       "      <td>150.000000</td>\n",
       "      <td>150</td>\n",
       "    </tr>\n",
       "    <tr>\n",
       "      <th>unique</th>\n",
       "      <td>NaN</td>\n",
       "      <td>NaN</td>\n",
       "      <td>NaN</td>\n",
       "      <td>NaN</td>\n",
       "      <td>NaN</td>\n",
       "      <td>3</td>\n",
       "    </tr>\n",
       "    <tr>\n",
       "      <th>top</th>\n",
       "      <td>NaN</td>\n",
       "      <td>NaN</td>\n",
       "      <td>NaN</td>\n",
       "      <td>NaN</td>\n",
       "      <td>NaN</td>\n",
       "      <td>Iris-setosa</td>\n",
       "    </tr>\n",
       "    <tr>\n",
       "      <th>freq</th>\n",
       "      <td>NaN</td>\n",
       "      <td>NaN</td>\n",
       "      <td>NaN</td>\n",
       "      <td>NaN</td>\n",
       "      <td>NaN</td>\n",
       "      <td>50</td>\n",
       "    </tr>\n",
       "    <tr>\n",
       "      <th>mean</th>\n",
       "      <td>75.500000</td>\n",
       "      <td>5.843333</td>\n",
       "      <td>3.054000</td>\n",
       "      <td>3.758667</td>\n",
       "      <td>1.198667</td>\n",
       "      <td>NaN</td>\n",
       "    </tr>\n",
       "    <tr>\n",
       "      <th>std</th>\n",
       "      <td>43.445368</td>\n",
       "      <td>0.828066</td>\n",
       "      <td>0.433594</td>\n",
       "      <td>1.764420</td>\n",
       "      <td>0.763161</td>\n",
       "      <td>NaN</td>\n",
       "    </tr>\n",
       "    <tr>\n",
       "      <th>min</th>\n",
       "      <td>1.000000</td>\n",
       "      <td>4.300000</td>\n",
       "      <td>2.000000</td>\n",
       "      <td>1.000000</td>\n",
       "      <td>0.100000</td>\n",
       "      <td>NaN</td>\n",
       "    </tr>\n",
       "    <tr>\n",
       "      <th>25%</th>\n",
       "      <td>38.250000</td>\n",
       "      <td>5.100000</td>\n",
       "      <td>2.800000</td>\n",
       "      <td>1.600000</td>\n",
       "      <td>0.300000</td>\n",
       "      <td>NaN</td>\n",
       "    </tr>\n",
       "    <tr>\n",
       "      <th>50%</th>\n",
       "      <td>75.500000</td>\n",
       "      <td>5.800000</td>\n",
       "      <td>3.000000</td>\n",
       "      <td>4.350000</td>\n",
       "      <td>1.300000</td>\n",
       "      <td>NaN</td>\n",
       "    </tr>\n",
       "    <tr>\n",
       "      <th>75%</th>\n",
       "      <td>112.750000</td>\n",
       "      <td>6.400000</td>\n",
       "      <td>3.300000</td>\n",
       "      <td>5.100000</td>\n",
       "      <td>1.800000</td>\n",
       "      <td>NaN</td>\n",
       "    </tr>\n",
       "    <tr>\n",
       "      <th>max</th>\n",
       "      <td>150.000000</td>\n",
       "      <td>7.900000</td>\n",
       "      <td>4.400000</td>\n",
       "      <td>6.900000</td>\n",
       "      <td>2.500000</td>\n",
       "      <td>NaN</td>\n",
       "    </tr>\n",
       "  </tbody>\n",
       "</table>\n",
       "</div>"
      ],
      "text/plain": [
       "                Id  SepalLengthCm  SepalWidthCm  PetalLengthCm  PetalWidthCm  \\\n",
       "count   150.000000     150.000000    150.000000     150.000000    150.000000   \n",
       "unique         NaN            NaN           NaN            NaN           NaN   \n",
       "top            NaN            NaN           NaN            NaN           NaN   \n",
       "freq           NaN            NaN           NaN            NaN           NaN   \n",
       "mean     75.500000       5.843333      3.054000       3.758667      1.198667   \n",
       "std      43.445368       0.828066      0.433594       1.764420      0.763161   \n",
       "min       1.000000       4.300000      2.000000       1.000000      0.100000   \n",
       "25%      38.250000       5.100000      2.800000       1.600000      0.300000   \n",
       "50%      75.500000       5.800000      3.000000       4.350000      1.300000   \n",
       "75%     112.750000       6.400000      3.300000       5.100000      1.800000   \n",
       "max     150.000000       7.900000      4.400000       6.900000      2.500000   \n",
       "\n",
       "            Species  \n",
       "count           150  \n",
       "unique            3  \n",
       "top     Iris-setosa  \n",
       "freq             50  \n",
       "mean            NaN  \n",
       "std             NaN  \n",
       "min             NaN  \n",
       "25%             NaN  \n",
       "50%             NaN  \n",
       "75%             NaN  \n",
       "max             NaN  "
      ]
     },
     "execution_count": 21,
     "metadata": {},
     "output_type": "execute_result"
    }
   ],
   "source": [
    "data.describe(include = 'all')"
   ]
  },
  {
   "cell_type": "code",
   "execution_count": 22,
   "id": "daaf340e",
   "metadata": {
    "execution": {
     "iopub.execute_input": "2022-03-28T06:30:17.452412Z",
     "iopub.status.busy": "2022-03-28T06:30:17.451459Z",
     "iopub.status.idle": "2022-03-28T06:30:17.466852Z",
     "shell.execute_reply": "2022-03-28T06:30:17.467362Z",
     "shell.execute_reply.started": "2022-03-28T05:42:28.261673Z"
    },
    "papermill": {
     "duration": 0.044028,
     "end_time": "2022-03-28T06:30:17.467532",
     "exception": false,
     "start_time": "2022-03-28T06:30:17.423504",
     "status": "completed"
    },
    "tags": []
   },
   "outputs": [
    {
     "name": "stdout",
     "output_type": "stream",
     "text": [
      "<class 'pandas.core.frame.DataFrame'>\n",
      "RangeIndex: 150 entries, 0 to 149\n",
      "Data columns (total 6 columns):\n",
      " #   Column         Non-Null Count  Dtype  \n",
      "---  ------         --------------  -----  \n",
      " 0   Id             150 non-null    int64  \n",
      " 1   SepalLengthCm  150 non-null    float64\n",
      " 2   SepalWidthCm   150 non-null    float64\n",
      " 3   PetalLengthCm  150 non-null    float64\n",
      " 4   PetalWidthCm   150 non-null    float64\n",
      " 5   Species        150 non-null    object \n",
      "dtypes: float64(4), int64(1), object(1)\n",
      "memory usage: 7.2+ KB\n"
     ]
    }
   ],
   "source": [
    "data.info()"
   ]
  },
  {
   "cell_type": "markdown",
   "id": "ab3fba23",
   "metadata": {
    "papermill": {
     "duration": 0.024936,
     "end_time": "2022-03-28T06:30:17.517609",
     "exception": false,
     "start_time": "2022-03-28T06:30:17.492673",
     "status": "completed"
    },
    "tags": []
   },
   "source": [
    "* Displaying Shape of the dataset and The Types of Species to Classify"
   ]
  },
  {
   "cell_type": "code",
   "execution_count": 31,
   "id": "540702cf",
   "metadata": {
    "execution": {
     "iopub.execute_input": "2022-03-28T06:30:17.572643Z",
     "iopub.status.busy": "2022-03-28T06:30:17.571647Z",
     "iopub.status.idle": "2022-03-28T06:30:17.580031Z",
     "shell.execute_reply": "2022-03-28T06:30:17.579499Z",
     "shell.execute_reply.started": "2022-03-28T05:42:28.28309Z"
    },
    "papermill": {
     "duration": 0.036677,
     "end_time": "2022-03-28T06:30:17.580186",
     "exception": false,
     "start_time": "2022-03-28T06:30:17.543509",
     "status": "completed"
    },
    "tags": []
   },
   "outputs": [
    {
     "name": "stdout",
     "output_type": "stream",
     "text": [
      "(150, 6)\n"
     ]
    },
    {
     "data": {
      "text/plain": [
       "array(['Iris-setosa', 'Iris-versicolor', 'Iris-virginica'], dtype=object)"
      ]
     },
     "execution_count": 31,
     "metadata": {},
     "output_type": "execute_result"
    }
   ],
   "source": [
    "print(data.shape)\n",
    "data['Species'].unique()"
   ]
  },
  {
   "cell_type": "markdown",
   "id": "dbdb4dd4",
   "metadata": {
    "papermill": {
     "duration": 0.027855,
     "end_time": "2022-03-28T06:30:17.633877",
     "exception": false,
     "start_time": "2022-03-28T06:30:17.606022",
     "status": "completed"
    },
    "tags": []
   },
   "source": [
    "* Checking for Null values"
   ]
  },
  {
   "cell_type": "code",
   "execution_count": 32,
   "id": "f22a6c5b",
   "metadata": {
    "execution": {
     "iopub.execute_input": "2022-03-28T06:30:17.693626Z",
     "iopub.status.busy": "2022-03-28T06:30:17.692981Z",
     "iopub.status.idle": "2022-03-28T06:30:17.695531Z",
     "shell.execute_reply": "2022-03-28T06:30:17.696017Z",
     "shell.execute_reply.started": "2022-03-28T05:42:28.295215Z"
    },
    "papermill": {
     "duration": 0.036448,
     "end_time": "2022-03-28T06:30:17.696187",
     "exception": false,
     "start_time": "2022-03-28T06:30:17.659739",
     "status": "completed"
    },
    "tags": []
   },
   "outputs": [
    {
     "data": {
      "text/plain": [
       "Id               0\n",
       "SepalLengthCm    0\n",
       "SepalWidthCm     0\n",
       "PetalLengthCm    0\n",
       "PetalWidthCm     0\n",
       "Species          0\n",
       "dtype: int64"
      ]
     },
     "execution_count": 32,
     "metadata": {},
     "output_type": "execute_result"
    }
   ],
   "source": [
    "data.isnull().sum()"
   ]
  },
  {
   "cell_type": "markdown",
   "id": "70661c2b",
   "metadata": {
    "papermill": {
     "duration": 0.028302,
     "end_time": "2022-03-28T06:30:17.750717",
     "exception": false,
     "start_time": "2022-03-28T06:30:17.722415",
     "status": "completed"
    },
    "tags": []
   },
   "source": [
    "* As we see there are no missing values so lets split our dataset into training(x) and testing(y) "
   ]
  },
  {
   "cell_type": "code",
   "execution_count": 33,
   "id": "f4bbdd4a",
   "metadata": {
    "execution": {
     "iopub.execute_input": "2022-03-28T06:30:17.811527Z",
     "iopub.status.busy": "2022-03-28T06:30:17.810873Z",
     "iopub.status.idle": "2022-03-28T06:30:17.812420Z",
     "shell.execute_reply": "2022-03-28T06:30:17.812949Z",
     "shell.execute_reply.started": "2022-03-28T05:42:28.310548Z"
    },
    "papermill": {
     "duration": 0.035509,
     "end_time": "2022-03-28T06:30:17.813126",
     "exception": false,
     "start_time": "2022-03-28T06:30:17.777617",
     "status": "completed"
    },
    "tags": []
   },
   "outputs": [],
   "source": [
    "x = data.iloc[:,1:5]\n",
    "y = data.iloc[:,5:]"
   ]
  },
  {
   "cell_type": "markdown",
   "id": "59d4daa6",
   "metadata": {
    "papermill": {
     "duration": 0.026279,
     "end_time": "2022-03-28T06:30:17.866232",
     "exception": false,
     "start_time": "2022-03-28T06:30:17.839953",
     "status": "completed"
    },
    "tags": []
   },
   "source": [
    "* Encoding the Species column"
   ]
  },
  {
   "cell_type": "code",
   "execution_count": 34,
   "id": "7e3a839d",
   "metadata": {
    "execution": {
     "iopub.execute_input": "2022-03-28T06:30:17.923691Z",
     "iopub.status.busy": "2022-03-28T06:30:17.923053Z",
     "iopub.status.idle": "2022-03-28T06:30:17.929861Z",
     "shell.execute_reply": "2022-03-28T06:30:17.930610Z",
     "shell.execute_reply.started": "2022-03-28T05:42:28.322242Z"
    },
    "papermill": {
     "duration": 0.037381,
     "end_time": "2022-03-28T06:30:17.930843",
     "exception": false,
     "start_time": "2022-03-28T06:30:17.893462",
     "status": "completed"
    },
    "tags": []
   },
   "outputs": [],
   "source": [
    "encode = LabelEncoder()\n",
    "y = encode.fit_transform(y)"
   ]
  },
  {
   "cell_type": "code",
   "execution_count": 35,
   "id": "638c89c3",
   "metadata": {},
   "outputs": [
    {
     "name": "stdout",
     "output_type": "stream",
     "text": [
      "{'Iris-setosa': 0, 'Iris-versicolor': 1, 'Iris-virginica': 2}\n"
     ]
    }
   ],
   "source": [
    "le_name_mapping = dict(zip(encode.classes_, encode.transform(encode.classes_)))\n",
    "print(le_name_mapping)"
   ]
  },
  {
   "cell_type": "markdown",
   "id": "d661ff20",
   "metadata": {
    "papermill": {
     "duration": 0.026649,
     "end_time": "2022-03-28T06:30:17.986559",
     "exception": false,
     "start_time": "2022-03-28T06:30:17.959910",
     "status": "completed"
    },
    "tags": []
   },
   "source": [
    "* Spliting training and testing dataset by 70-30 "
   ]
  },
  {
   "cell_type": "code",
   "execution_count": 44,
   "id": "9892536e",
   "metadata": {
    "execution": {
     "iopub.execute_input": "2022-03-28T06:30:18.043949Z",
     "iopub.status.busy": "2022-03-28T06:30:18.043266Z",
     "iopub.status.idle": "2022-03-28T06:30:18.049681Z",
     "shell.execute_reply": "2022-03-28T06:30:18.049123Z",
     "shell.execute_reply.started": "2022-03-28T05:42:28.337921Z"
    },
    "papermill": {
     "duration": 0.036124,
     "end_time": "2022-03-28T06:30:18.049837",
     "exception": false,
     "start_time": "2022-03-28T06:30:18.013713",
     "status": "completed"
    },
    "tags": []
   },
   "outputs": [],
   "source": [
    "x_train,x_test,y_train,y_test = train_test_split(x,y,test_size = 0.2,random_state = 0)"
   ]
  },
  {
   "cell_type": "markdown",
   "id": "8a21ba02",
   "metadata": {
    "papermill": {
     "duration": 0.026949,
     "end_time": "2022-03-28T06:30:18.104532",
     "exception": false,
     "start_time": "2022-03-28T06:30:18.077583",
     "status": "completed"
    },
    "tags": []
   },
   "source": [
    "### Preparing Naive Bayes Model"
   ]
  },
  {
   "cell_type": "code",
   "execution_count": 45,
   "id": "6d7b7603",
   "metadata": {
    "execution": {
     "iopub.execute_input": "2022-03-28T06:30:18.169126Z",
     "iopub.status.busy": "2022-03-28T06:30:18.168415Z",
     "iopub.status.idle": "2022-03-28T06:30:18.171271Z",
     "shell.execute_reply": "2022-03-28T06:30:18.171740Z",
     "shell.execute_reply.started": "2022-03-28T05:42:28.351393Z"
    },
    "papermill": {
     "duration": 0.040105,
     "end_time": "2022-03-28T06:30:18.171932",
     "exception": false,
     "start_time": "2022-03-28T06:30:18.131827",
     "status": "completed"
    },
    "tags": []
   },
   "outputs": [],
   "source": [
    "naive_bayes = GaussianNB()\n",
    "naive_bayes.fit(x_train,y_train)\n",
    "pred = naive_bayes.predict(x_test)"
   ]
  },
  {
   "cell_type": "code",
   "execution_count": 46,
   "id": "391c07f1",
   "metadata": {
    "execution": {
     "iopub.execute_input": "2022-03-28T06:30:18.230215Z",
     "iopub.status.busy": "2022-03-28T06:30:18.229367Z",
     "iopub.status.idle": "2022-03-28T06:30:18.235141Z",
     "shell.execute_reply": "2022-03-28T06:30:18.234518Z",
     "shell.execute_reply.started": "2022-03-28T05:42:28.364784Z"
    },
    "papermill": {
     "duration": 0.036196,
     "end_time": "2022-03-28T06:30:18.235288",
     "exception": false,
     "start_time": "2022-03-28T06:30:18.199092",
     "status": "completed"
    },
    "tags": []
   },
   "outputs": [
    {
     "data": {
      "text/plain": [
       "array([2, 1, 0, 2, 0, 2, 0, 1, 1, 1, 1, 1, 1, 1, 1, 0, 1, 1, 0, 0, 2, 1,\n",
       "       0, 0, 2, 0, 0, 1, 1, 0])"
      ]
     },
     "execution_count": 46,
     "metadata": {},
     "output_type": "execute_result"
    }
   ],
   "source": [
    "pred"
   ]
  },
  {
   "cell_type": "code",
   "execution_count": 47,
   "id": "00aff646",
   "metadata": {
    "execution": {
     "iopub.execute_input": "2022-03-28T06:30:18.296215Z",
     "iopub.status.busy": "2022-03-28T06:30:18.295521Z",
     "iopub.status.idle": "2022-03-28T06:30:18.298105Z",
     "shell.execute_reply": "2022-03-28T06:30:18.298651Z",
     "shell.execute_reply.started": "2022-03-28T06:07:17.175863Z"
    },
    "papermill": {
     "duration": 0.035708,
     "end_time": "2022-03-28T06:30:18.298839",
     "exception": false,
     "start_time": "2022-03-28T06:30:18.263131",
     "status": "completed"
    },
    "tags": []
   },
   "outputs": [
    {
     "data": {
      "text/plain": [
       "array([2, 1, 0, 2, 0, 2, 0, 1, 1, 1, 2, 1, 1, 1, 1, 0, 1, 1, 0, 0, 2, 1,\n",
       "       0, 0, 2, 0, 0, 1, 1, 0])"
      ]
     },
     "execution_count": 47,
     "metadata": {},
     "output_type": "execute_result"
    }
   ],
   "source": [
    "y_test"
   ]
  },
  {
   "cell_type": "markdown",
   "id": "f8c4c256",
   "metadata": {
    "papermill": {
     "duration": 0.027345,
     "end_time": "2022-03-28T06:30:18.354044",
     "exception": false,
     "start_time": "2022-03-28T06:30:18.326699",
     "status": "completed"
    },
    "tags": []
   },
   "source": [
    "* Plotting Confusion Matrix "
   ]
  },
  {
   "cell_type": "code",
   "execution_count": 48,
   "id": "487a2eca",
   "metadata": {
    "execution": {
     "iopub.execute_input": "2022-03-28T06:30:18.418013Z",
     "iopub.status.busy": "2022-03-28T06:30:18.417236Z",
     "iopub.status.idle": "2022-03-28T06:30:18.420675Z",
     "shell.execute_reply": "2022-03-28T06:30:18.421213Z",
     "shell.execute_reply.started": "2022-03-28T05:42:28.393178Z"
    },
    "papermill": {
     "duration": 0.039345,
     "end_time": "2022-03-28T06:30:18.421396",
     "exception": false,
     "start_time": "2022-03-28T06:30:18.382051",
     "status": "completed"
    },
    "tags": []
   },
   "outputs": [
    {
     "name": "stdout",
     "output_type": "stream",
     "text": [
      "[[11  0  0]\n",
      " [ 0 13  0]\n",
      " [ 0  1  5]]\n"
     ]
    }
   ],
   "source": [
    "matrix =  confusion_matrix(y_test,pred,labels = naive_bayes.classes_)\n",
    "print(matrix)\n",
    "\n",
    "tp, fn, fp, tn = confusion_matrix(y_test,pred,labels=[1,0]).reshape(-1)"
   ]
  },
  {
   "cell_type": "code",
   "execution_count": 49,
   "id": "b4ffbe26",
   "metadata": {
    "execution": {
     "iopub.execute_input": "2022-03-28T06:30:18.484841Z",
     "iopub.status.busy": "2022-03-28T06:30:18.483746Z",
     "iopub.status.idle": "2022-03-28T06:30:18.751506Z",
     "shell.execute_reply": "2022-03-28T06:30:18.750809Z",
     "shell.execute_reply.started": "2022-03-28T05:52:25.81269Z"
    },
    "papermill": {
     "duration": 0.302074,
     "end_time": "2022-03-28T06:30:18.751646",
     "exception": false,
     "start_time": "2022-03-28T06:30:18.449572",
     "status": "completed"
    },
    "tags": []
   },
   "outputs": [
    {
     "data": {
      "image/png": "[encoded data removed]",
      "text/plain": [
       "<Figure size 640x480 with 2 Axes>"
      ]
     },
     "metadata": {},
     "output_type": "display_data"
    }
   ],
   "source": [
    "conf_matrix = ConfusionMatrixDisplay(confusion_matrix=matrix,display_labels=['Iris-setosa','Iris-versicolor','Iris-virginica'])#naive_bayes.classes_)\n",
    "#cmd = ConfusionMatrixDisplay(cm, display_labels=['True','False'])\n",
    "conf_matrix.plot(cmap=plt.cm.YlGn)\n",
    "plt.show()"
   ]
  },
  {
   "cell_type": "markdown",
   "id": "e67b5772",
   "metadata": {
    "papermill": {
     "duration": 0.029507,
     "end_time": "2022-03-28T06:30:18.810296",
     "exception": false,
     "start_time": "2022-03-28T06:30:18.780789",
     "status": "completed"
    },
    "tags": []
   },
   "source": [
    "* Evaluating our model and calculating TN,FN,TP,FP Accuracy,Recall,Precision,ErrorRate,"
   ]
  },
  {
   "cell_type": "code",
   "execution_count": 50,
   "id": "4e802416",
   "metadata": {
    "execution": {
     "iopub.execute_input": "2022-03-28T06:30:18.874162Z",
     "iopub.status.busy": "2022-03-28T06:30:18.873093Z",
     "iopub.status.idle": "2022-03-28T06:30:18.881353Z",
     "shell.execute_reply": "2022-03-28T06:30:18.881875Z",
     "shell.execute_reply.started": "2022-03-28T05:49:18.507494Z"
    },
    "papermill": {
     "duration": 0.042481,
     "end_time": "2022-03-28T06:30:18.882045",
     "exception": false,
     "start_time": "2022-03-28T06:30:18.839564",
     "status": "completed"
    },
    "tags": []
   },
   "outputs": [
    {
     "name": "stdout",
     "output_type": "stream",
     "text": [
      "              precision    recall  f1-score   support\n",
      "\n",
      "           0       1.00      1.00      1.00        11\n",
      "           1       0.93      1.00      0.96        13\n",
      "           2       1.00      0.83      0.91         6\n",
      "\n",
      "    accuracy                           0.97        30\n",
      "   macro avg       0.98      0.94      0.96        30\n",
      "weighted avg       0.97      0.97      0.97        30\n",
      "\n"
     ]
    }
   ],
   "source": [
    "print(classification_report(y_test,pred))"
   ]
  },
  {
   "cell_type": "code",
   "execution_count": 51,
   "id": "5c090c10",
   "metadata": {
    "execution": {
     "iopub.execute_input": "2022-03-28T06:30:18.946931Z",
     "iopub.status.busy": "2022-03-28T06:30:18.945950Z",
     "iopub.status.idle": "2022-03-28T06:30:18.955196Z",
     "shell.execute_reply": "2022-03-28T06:30:18.954520Z",
     "shell.execute_reply.started": "2022-03-28T05:49:06.971284Z"
    },
    "papermill": {
     "duration": 0.042721,
     "end_time": "2022-03-28T06:30:18.955341",
     "exception": false,
     "start_time": "2022-03-28T06:30:18.912620",
     "status": "completed"
    },
    "tags": []
   },
   "outputs": [
    {
     "name": "stdout",
     "output_type": "stream",
     "text": [
      "\n",
      "Accuracy: 0.97\n",
      "Error Rate:  0.0\n",
      "Sensitivity (Recall or True positive rate) : 1.0\n",
      "Specificity (True negative rate) : 1.0\n",
      "Precision (Positive predictive value) : 1.0\n",
      "False Positive Rate : 0.0\n"
     ]
    }
   ],
   "source": [
    "print('\\nAccuracy: {:.2f}'.format(accuracy_score(y_test,pred)))\n",
    "print('Error Rate: ',(fp+fn)/(tp+tn+fn+fp))\n",
    "print('Sensitivity (Recall or True positive rate) :',tp/(tp+fn))\n",
    "print('Specificity (True negative rate) :',tn/(fp+tn))\n",
    "print('Precision (Positive predictive value) :',tp/(tp+fp))\n",
    "print('False Positive Rate :',fp/(tn+fp))"
   ]
  },
  {
   "cell_type": "code",
   "execution_count": null,
   "id": "7701a5bb",
   "metadata": {},
   "outputs": [],
   "source": []
  }
 ],
 "metadata": {
  "kernelspec": {
   "display_name": "Python 3 (ipykernel)",
   "language": "python",
   "name": "python3"
  },
  "language_info": {
   "codemirror_mode": {
    "name": "ipython",
    "version": 3
   },
   "file_extension": ".py",
   "mimetype": "text/x-python",
   "name": "python",
   "nbconvert_exporter": "python",
   "pygments_lexer": "ipython3",
   "version": "3.7.1"
  },
  "papermill": {
   "default_parameters": {},
   "duration": 13.707806,
   "end_time": "2022-03-28T06:30:19.758101",
   "environment_variables": {},
   "exception": null,
   "input_path": "__notebook__.ipynb",
   "output_path": "__notebook__.ipynb",
   "parameters": {},
   "start_time": "2022-03-28T06:30:06.050295",
   "version": "2.3.3"
  }
 },
 "nbformat": 4,
 "nbformat_minor": 5
}
